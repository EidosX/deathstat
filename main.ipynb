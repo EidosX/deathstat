{
 "cells": [
  {
   "cell_type": "code",
   "execution_count": null,
   "metadata": {},
   "outputs": [],
   "source": [
    "import pandas as pd\n",
    "import matplotlib.pyplot as plt\n",
    "from src.read_deaths import read_deaths\n",
    "from src.read_pop import read_pop\n",
    "\n",
    "deaths = read_deaths()\n",
    "pop = read_pop()  # TODO: Group 100+ population\n",
    "\n",
    "plt.rcParams[\"figure.figsize\"] = [22, 6]\n",
    "plt.rcParams[\"axes.xmargin\"] = 0.012\n"
   ]
  },
  {
   "cell_type": "markdown",
   "metadata": {},
   "source": [
    "## Raw deaths per year\n",
    "\n",
    "We start by looking at how many people died each year.\n",
    "\n",
    "We can make two observations:\n",
    "\n",
    "- Deaths are pretty stable from 1962 to 2019, with a few dips and peaks (e.g a 6.4% increase from 2014 to 2015)\n",
    "- 2020 breaks this stability with a 9.2% increase from 2019 (TODO 2021). This could be explained by COVID-19.\n",
    "\n",
    "We would like to explain why the deaths remain stable from 1962 to 2019 despite the major advances made in the health sector.\n"
   ]
  },
  {
   "cell_type": "code",
   "execution_count": null,
   "metadata": {},
   "outputs": [],
   "source": [
    "df = deaths[deaths[\"sex\"] == \"E\"].groupby(\"year\", as_index=0).agg(sum)\n",
    "\n",
    "plt.figure()\n",
    "plt.title(\"Raw deaths\")\n",
    "plt.xlabel(\"Year\")\n",
    "plt.ylabel(\"Deaths\")\n",
    "plt.bar(df[\"year\"], df[\"deaths\"])\n"
   ]
  },
  {
   "cell_type": "markdown",
   "metadata": {},
   "source": [
    "## Taking population count into account\n",
    "\n",
    "The first hypothesis is that the number of deaths does not decrease because the population is growing each year.  \n",
    "To verify it, we graph the death rate per year (deaths / pop), and we do see a downward trend indeed.\n"
   ]
  },
  {
   "cell_type": "code",
   "execution_count": null,
   "metadata": {},
   "outputs": [],
   "source": [
    "df = pd.merge(pop, deaths, on=[\"year\", \"sex\", \"age\"]).groupby(\n",
    "    \"year\", as_index=0).agg(sum)\n",
    "\n",
    "plt.figure()\n",
    "plt.title(\"Death rate\")\n",
    "plt.xlabel(\"Year\")\n",
    "plt.ylabel(\"Deaths per 100k\")\n",
    "plt.bar(df[\"year\"], 100_000 * df[\"deaths\"] / df[\"pop\"])\n"
   ]
  },
  {
   "cell_type": "markdown",
   "metadata": {},
   "source": [
    "## Taking age into account\n",
    "\n",
    "We would like to analyze the death rate for each age.  \n",
    "Let's take 2000 and 2019 as examples: we see in the graph below that **the death rate in 2000 is strictly higher than the death rate in 2019 for any age** except 85 and 99.  \n",
    "This is surprising as in the graph above, the death rate in 2019 is 2.5% higher than in 2000.\n"
   ]
  },
  {
   "cell_type": "code",
   "execution_count": null,
   "metadata": {},
   "outputs": [],
   "source": [
    "df = pd.merge(pop, deaths, on=[\"year\", \"sex\", \"age\"]).groupby(\n",
    "    [\"year\", \"age\"], as_index=0).agg(sum)\n",
    "\n",
    "\n",
    "plt.figure()\n",
    "plt.title(\"Deaths per age (log scale)\")\n",
    "plt.xlabel(\"Age\")\n",
    "plt.ylabel(\"Deaths per 100k\")\n",
    "plt.yscale('log')\n",
    "for year in [1980, 2000, 2019, 2020]:\n",
    "    df_2 = df[df[\"year\"] == year]\n",
    "    plt.plot(df_2[\"age\"], 100_000 * df_2[\"deaths\"] / df_2[\"pop\"],\n",
    "             label=str(year))\n",
    "plt.legend()\n",
    "\n",
    "df = pd.merge(df[df[\"year\"] == 2000], df[df[\"year\"] == 2019], on=\"age\")\n",
    "print(\"Ages for which the death rate is higher in 2019 than in 2000:\",\n",
    "      [*df[df[\"deaths_x\"] / df[\"pop_x\"] <= df[\"deaths_y\"] / df[\"pop_y\"]][\"age\"]])\n"
   ]
  },
  {
   "cell_type": "markdown",
   "metadata": {},
   "source": [
    "### The simpson paradox\n",
    "\n",
    "The reason why the death rate is higher in 2000 than in 2019 **for any age**, but the death rate is higher in 2019 than in 2000 is because of the population aging, in particular due to the baby boom in 1946.  \n",
    "We can see in the graphs below the huge spike in new borns, as well as the quick income of old people over the years.\n",
    "\n",
    "The disconnection seen previously is thus explained by the Simpson paradox: _the mortality being higher in 2019 than in 2000 does not mean you'd have less chance of dying in 2000, but that you are more likely to randomly pick an old person (likely to die) in 2019 than in 2000_.\n"
   ]
  },
  {
   "cell_type": "code",
   "execution_count": null,
   "metadata": {},
   "outputs": [],
   "source": [
    "df_0 = pop[pop[\"age\"] == 0]\n",
    "df_0 = df_0.groupby([\"year\"], as_index=0).agg({\"pop\": sum})\n",
    "df_0 = df_0.query(\"year >= 1924\")\n",
    "\n",
    "plt.figure()\n",
    "plt.title(\"Population aged 0 (i.e born last year) per year\")\n",
    "plt.xlabel(\"Year\")\n",
    "plt.ylabel(\"Population\")\n",
    "plt.bar(df_0[\"year\"], df_0[\"pop\"])\n",
    "\n",
    "\n",
    "df_60_80 = pop[(pop[\"age\"] >= 60) & (pop[\"age\"] <= 79)]\n",
    "df_60_80 = df_60_80.groupby([\"year\"], as_index=0).agg({\"pop\": sum})\n",
    "df_60_80 = df_60_80.query(\"year >= 1924\")\n",
    "\n",
    "plt.figure()\n",
    "plt.title(\"Population aged 60-79 per year\")\n",
    "plt.xlabel(\"Year\")\n",
    "plt.ylabel(\"Population\")\n",
    "plt.bar(df_60_80[\"year\"], df_60_80[\"pop\"])\n",
    "\n",
    "\n",
    "df_80_pl = pop[(pop[\"age\"] >= 80)]\n",
    "df_80_pl = df_80_pl.groupby([\"year\"], as_index=0).agg({\"pop\": sum})\n",
    "df_80_pl = df_80_pl.query(\"year >= 1924\")\n",
    "\n",
    "plt.figure()\n",
    "plt.title(\"Population aged 80+ per year\")\n",
    "plt.xlabel(\"Year\")\n",
    "plt.ylabel(\"Population\")\n",
    "plt.bar(df_80_pl[\"year\"], df_80_pl[\"pop\"])\n"
   ]
  },
  {
   "cell_type": "markdown",
   "metadata": {},
   "source": [
    "## Age standardized death rate\n",
    "\n",
    "This graph reflects the intuitive decrease in chance of deaths.\n"
   ]
  },
  {
   "cell_type": "code",
   "execution_count": null,
   "metadata": {},
   "outputs": [],
   "source": [
    "ref_year = 2020\n",
    "\n",
    "ref_df = pop[pop[\"year\"] == ref_year]\n",
    "ref_total_pop = int(ref_df.agg({\"pop\": sum}))\n",
    "df = pd.merge(pop, deaths, on=[\"year\", \"sex\", \"age\"])\n",
    "df = pd.merge(df, ref_df, on=[\"sex\", \"age\"], suffixes=(\"\", \"_ref\"))\n",
    "df[\"asmr\"] = df[\"pop_ref\"] * df[\"deaths\"] / df[\"pop\"]\n",
    "df = df.groupby([\"year\"], as_index=0).agg(sum)\n",
    "\n",
    "plt.figure()\n",
    "plt.title(\"Age standardized death rate\")\n",
    "plt.xlabel(\"Year\")\n",
    "plt.ylabel(\"Deaths (standardized to 2020's age pyramid)\")\n",
    "plt.bar(df[\"year\"], df[\"asmr\"])\n"
   ]
  }
 ],
 "metadata": {
  "interpreter": {
   "hash": "669f5abd92f1a410df15b0643b9f42360e277a412fc08ae8bc7d7911cf7e8f3d"
  },
  "kernelspec": {
   "display_name": "Python 3.10.2 64-bit",
   "language": "python",
   "name": "python3"
  },
  "language_info": {
   "codemirror_mode": {
    "name": "ipython",
    "version": 3
   },
   "file_extension": ".py",
   "mimetype": "text/x-python",
   "name": "python",
   "nbconvert_exporter": "python",
   "pygments_lexer": "ipython3",
   "version": "3.10.2"
  },
  "orig_nbformat": 4
 },
 "nbformat": 4,
 "nbformat_minor": 2
}
