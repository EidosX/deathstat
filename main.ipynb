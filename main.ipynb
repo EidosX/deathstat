{
 "cells": [
  {
   "cell_type": "code",
   "execution_count": null,
   "metadata": {},
   "outputs": [],
   "source": [
    "import pandas as pd\n",
    "import matplotlib.pyplot as plt\n",
    "from src.read_deaths import read_deaths\n",
    "from src.read_pop import read_pop\n",
    "\n",
    "deaths = read_deaths()\n",
    "pop = read_pop()\n",
    "\n",
    "plt.rcParams[\"figure.figsize\"] = [22, 6]\n",
    "plt.rcParams[\"axes.xmargin\"] = 0.012\n"
   ]
  },
  {
   "cell_type": "code",
   "execution_count": null,
   "metadata": {},
   "outputs": [],
   "source": [
    "pop_60_80 = pop[(pop[\"age\"] >= 60) & (pop[\"age\"] <= 79)]\n",
    "pop_60_80 = pop_60_80.groupby([\"year\"]).agg({\"pop\": sum}).reset_index()\n",
    "pop_60_80 = pop_60_80.query(\"year >= 1960\")\n",
    "\n",
    "pop_80_plus = pop[(pop[\"age\"] >= 80)]\n",
    "pop_80_plus = pop_80_plus.groupby([\"year\"]).agg({\"pop\": sum}).reset_index()\n",
    "pop_80_plus = pop_80_plus.query(\"year >= 1960\")\n",
    "\n",
    "plt.figure()\n",
    "plt.title(\"Population aged 60-79 per year\")\n",
    "plt.xlabel(\"Year\")\n",
    "plt.ylabel(\"Population\")\n",
    "plt.bar(pop_60_80[\"year\"], pop_60_80[\"pop\"])\n",
    "\n",
    "plt.figure()\n",
    "plt.title(\"Population aged 80+ per year\")\n",
    "plt.xlabel(\"Year\")\n",
    "plt.ylabel(\"Population\")\n",
    "plt.bar(pop_80_plus[\"year\"], pop_80_plus[\"pop\"])\n"
   ]
  }
 ],
 "metadata": {
  "interpreter": {
   "hash": "669f5abd92f1a410df15b0643b9f42360e277a412fc08ae8bc7d7911cf7e8f3d"
  },
  "kernelspec": {
   "display_name": "Python 3.10.2 64-bit",
   "language": "python",
   "name": "python3"
  },
  "language_info": {
   "codemirror_mode": {
    "name": "ipython",
    "version": 3
   },
   "file_extension": ".py",
   "mimetype": "text/x-python",
   "name": "python",
   "nbconvert_exporter": "python",
   "pygments_lexer": "ipython3",
   "version": "3.10.2"
  },
  "orig_nbformat": 4
 },
 "nbformat": 4,
 "nbformat_minor": 2
}
